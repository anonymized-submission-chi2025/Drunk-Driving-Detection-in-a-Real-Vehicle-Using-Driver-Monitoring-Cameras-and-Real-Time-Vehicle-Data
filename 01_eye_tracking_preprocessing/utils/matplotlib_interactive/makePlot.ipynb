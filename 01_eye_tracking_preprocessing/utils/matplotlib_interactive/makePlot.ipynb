{
 "cells": [
  {
   "cell_type": "code",
   "execution_count": 1,
   "metadata": {},
   "outputs": [],
   "source": [
    "import matplotlib.pyplot as plt\n",
    "%matplotlib inline\n",
    "import numpy as np\n",
    "import pickle"
   ]
  },
  {
   "cell_type": "code",
   "execution_count": 2,
   "metadata": {},
   "outputs": [
    {
     "name": "stdout",
     "output_type": "stream",
     "text": [
      "\n",
      "/local/home/marxera/anaconda3/envs/mt-gpu-face/lib/python35.zip\n",
      "/local/home/marxera/anaconda3/envs/mt-gpu-face/lib/python3.5\n",
      "/local/home/marxera/anaconda3/envs/mt-gpu-face/lib/python3.5/plat-linux\n",
      "/local/home/marxera/anaconda3/envs/mt-gpu-face/lib/python3.5/lib-dynload\n",
      "/local/home/marxera/anaconda3/envs/mt-gpu-face/lib/python3.5/site-packages\n",
      "/local/home/marxera/anaconda3/envs/mt-gpu-face/lib/python3.5/site-packages/IPython/extensions\n",
      "/local/home/marxera/.ipython\n",
      "/local/home/marxera/mt-headwind/Code/matplotlib_interactive\n"
     ]
    }
   ],
   "source": [
    "import sys\n",
    "# add folder to system path\n",
    "sys.path.append('/local/home/marxera/mt-headwind/Code/matplotlib_interactive')\n",
    "print('\\n'.join(sys.path))\n",
    "# OWN function for saving plots\n",
    "from fct_save_pickle_plot import save_pickle_plot # needed to add folder to sys path before"
   ]
  },
  {
   "cell_type": "code",
   "execution_count": 3,
   "metadata": {},
   "outputs": [
    {
     "name": "stdout",
     "output_type": "stream",
     "text": [
      "[<matplotlib.axes._subplots.AxesSubplot object at 0x7f227871d160>]\n",
      "fig_handle axes:  [<matplotlib.axes._subplots.AxesSubplot object at 0x7f227871d160>]\n"
     ]
    }
   ],
   "source": [
    "# Plot simple sinus function\n",
    "x = np.linspace(0, 2*np.pi)\n",
    "y = np.sin(x)\n",
    "plt.plot(x, y)\n",
    "print(plt.gcf().get_axes())\n",
    "\n",
    "# Save plot (must be in same cell as generating figure!)\n",
    "name = 'test_notebook'\n",
    "save_pickle_plot(plt, name)"
   ]
  },
  {
   "cell_type": "code",
   "execution_count": null,
   "metadata": {},
   "outputs": [],
   "source": []
  }
 ],
 "metadata": {
  "kernelspec": {
   "display_name": "mt-gpu-face",
   "language": "python",
   "name": "mt-gpu-face"
  },
  "language_info": {
   "codemirror_mode": {
    "name": "ipython",
    "version": 3
   },
   "file_extension": ".py",
   "mimetype": "text/x-python",
   "name": "python",
   "nbconvert_exporter": "python",
   "pygments_lexer": "ipython3",
   "version": "3.5.6"
  }
 },
 "nbformat": 4,
 "nbformat_minor": 4
}
